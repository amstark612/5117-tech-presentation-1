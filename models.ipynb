{
 "cells": [
  {
   "cell_type": "code",
   "execution_count": 1,
   "id": "8c7ad446",
   "metadata": {},
   "outputs": [],
   "source": [
    "from flask import Flask\n",
    "from flask_sqlalchemy import SQLAlchemy\n",
    "import datetime as dt"
   ]
  },
  {
   "cell_type": "code",
   "execution_count": 2,
   "id": "01dd1c78",
   "metadata": {},
   "outputs": [
    {
     "name": "stderr",
     "output_type": "stream",
     "text": [
      "/Library/Frameworks/Python.framework/Versions/3.10/lib/python3.10/site-packages/flask_sqlalchemy/__init__.py:872: FSADeprecationWarning: SQLALCHEMY_TRACK_MODIFICATIONS adds significant overhead and will be disabled by default in the future.  Set it to True or False to suppress this warning.\n",
      "  warnings.warn(FSADeprecationWarning(\n"
     ]
    }
   ],
   "source": [
    "app = Flask(__name__)\n",
    "app.config['SQLALCHEMY_DATABASE_URI'] = 'sqlite:////tmp/test.db'\n",
    "db = SQLAlchemy(app)"
   ]
  },
  {
   "cell_type": "code",
   "execution_count": 3,
   "id": "7a17f53b",
   "metadata": {},
   "outputs": [],
   "source": [
    "class User(db.Model):\n",
    "    id = db.Column(db.Text, primary_key=True, nullable=False)\n",
    "    username = db.Column(db.String(30), unique=True, nullable=False)\n",
    "    display_name = db.Column(db.String(30))\n",
    "    first_name = db.Column(db.String(30), nullable=False)\n",
    "    last_name = db.Column(db.String(30), nullable=False)\n",
    "\n",
    "    def __repr__(self):\n",
    "        return '<User(username=%s)>' % self.username\n",
    "\n",
    "class Post(db.Model):\n",
    "    id = db.Column(db.Integer, primary_key=True, nullable=False)\n",
    "\n",
    "    creator_id = db.Column(db.Text, db.ForeignKey('user.id'), nullable=False)\n",
    "    user = db.relationship(\"User\", backref=db.backref('posts', lazy=True, cascade='all, delete-orphan'))\n",
    "\n",
    "    created_at = db.Column(db.DateTime(), default=dt.datetime.now(), nullable=False)\n",
    "    title = db.Column(db.String(140), nullable=False)\n",
    "    body = db.Column(db.Text, nullable=False)\n",
    "    num_votes = db.Column(db.Integer, default=0)\n",
    "    \n",
    "    def __repr__(self):\n",
    "        return '<Post(creator_id=%s, title=%s)>' % (self.creator_id, self.title)"
   ]
  },
  {
   "cell_type": "code",
   "execution_count": 4,
   "id": "a3d013d2",
   "metadata": {},
   "outputs": [],
   "source": [
    "class Comment(db.Model):\n",
    "    id = db.Column(db.Integer, primary_key=True, nullable=False)\n",
    "\n",
    "    created_at = db.Column(db.DateTime(), default=dt.datetime.now(), nullable=False)\n",
    "    body = db.Column(db.Text, nullable=False)\n",
    "\n",
    "    creator_id = db.Column(db.Text, db.ForeignKey('user.id'), nullable=False)\n",
    "    user = db.relationship('User', backref=db.backref('comments', lazy=True, cascade='all, delete-orphan'))\n",
    "\n",
    "    post_id = db.Column(db.Integer, db.ForeignKey('post.id'), nullable=False)\n",
    "    post = db.relationship('Post', backref=db.backref('comments', lazy=True, order_by=created_at, cascade='all, delete-orphan'))\n",
    "\n",
    "    # dunno if we'll use this, putting it here in case we do so we don't have to run a migration\n",
    "    num_votes = db.Column(db.Integer, default=0)\n",
    "\n",
    "    def __repr__(self):\n",
    "        return '<Comment(creator_id=%s, post_id=%s>' % (self.creator_id, self.post_id)"
   ]
  },
  {
   "cell_type": "code",
   "execution_count": 5,
   "id": "5cef41bd",
   "metadata": {},
   "outputs": [],
   "source": [
    "db.create_all()"
   ]
  },
  {
   "cell_type": "code",
   "execution_count": 8,
   "id": "e4cb0c62",
   "metadata": {},
   "outputs": [
    {
     "data": {
      "text/plain": [
       "['id', 'created_at', 'body', 'creator_id', 'post_id', 'num_votes']"
      ]
     },
     "execution_count": 8,
     "metadata": {},
     "output_type": "execute_result"
    }
   ],
   "source": [
    "Comment.__table__.columns.keys()"
   ]
  },
  {
   "cell_type": "code",
   "execution_count": null,
   "id": "d76827a0",
   "metadata": {},
   "outputs": [],
   "source": []
  },
  {
   "cell_type": "code",
   "execution_count": null,
   "id": "a24ed5aa",
   "metadata": {},
   "outputs": [],
   "source": []
  },
  {
   "cell_type": "code",
   "execution_count": null,
   "id": "d79bc4ea",
   "metadata": {},
   "outputs": [],
   "source": []
  }
 ],
 "metadata": {
  "kernelspec": {
   "display_name": "Python 3 (ipykernel)",
   "language": "python",
   "name": "python3"
  },
  "language_info": {
   "codemirror_mode": {
    "name": "ipython",
    "version": 3
   },
   "file_extension": ".py",
   "mimetype": "text/x-python",
   "name": "python",
   "nbconvert_exporter": "python",
   "pygments_lexer": "ipython3",
   "version": "3.10.0"
  }
 },
 "nbformat": 4,
 "nbformat_minor": 5
}
