{
 "cells": [
  {
   "cell_type": "code",
   "execution_count": null,
   "id": "44b59f24",
   "metadata": {},
   "outputs": [],
   "source": [
    "from server import create_app\n",
    "from models import db, User, Post, Comment\n",
    "app = create_app()\n",
    "app.app_context().push\n",
    "context = app.app_context()"
   ]
  },
  {
   "cell_type": "code",
   "execution_count": null,
   "id": "e685489d",
   "metadata": {},
   "outputs": [],
   "source": [
    "with context:\n",
    "    session = db.session()\n",
    "    session.expire_on_commit = False"
   ]
  },
  {
   "cell_type": "code",
   "execution_count": null,
   "id": "6465832f",
   "metadata": {},
   "outputs": [],
   "source": [
    "with context:\n",
    "    comment = Comment.query.first() # one trip to the db to get comment\n",
    "    print(f'The author of this comment is {comment.user.username}') # another trip to db to get username"
   ]
  },
  {
   "cell_type": "code",
   "execution_count": null,
   "id": "768016d2",
   "metadata": {},
   "outputs": [],
   "source": []
  },
  {
   "cell_type": "code",
   "execution_count": null,
   "id": "baea06e5",
   "metadata": {},
   "outputs": [],
   "source": []
  },
  {
   "cell_type": "code",
   "execution_count": null,
   "id": "6e0dce1d",
   "metadata": {},
   "outputs": [],
   "source": []
  }
 ],
 "metadata": {
  "kernelspec": {
   "display_name": "Python 3 (ipykernel)",
   "language": "python",
   "name": "python3"
  },
  "language_info": {
   "codemirror_mode": {
    "name": "ipython",
    "version": 3
   },
   "file_extension": ".py",
   "mimetype": "text/x-python",
   "name": "python",
   "nbconvert_exporter": "python",
   "pygments_lexer": "ipython3",
   "version": "3.10.2"
  }
 },
 "nbformat": 4,
 "nbformat_minor": 5
}
