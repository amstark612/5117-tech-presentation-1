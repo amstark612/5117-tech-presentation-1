{
 "cells": [
  {
   "cell_type": "code",
   "execution_count": 1,
   "id": "ec4801d6",
   "metadata": {},
   "outputs": [],
   "source": [
    "from server import create_app\n",
    "from models import db, User, Post, Comment\n",
    "app = create_app()\n",
    "context = app.app_context()"
   ]
  },
  {
   "cell_type": "code",
   "execution_count": 2,
   "id": "b35701c7",
   "metadata": {},
   "outputs": [
    {
     "name": "stdout",
     "output_type": "stream",
     "text": [
      "2022-03-25 20:08:32,481 INFO sqlalchemy.engine.Engine select pg_catalog.version()\n",
      "2022-03-25 20:08:32,482 INFO sqlalchemy.engine.Engine [raw sql] {}\n",
      "2022-03-25 20:08:32,550 INFO sqlalchemy.engine.Engine select current_schema()\n",
      "2022-03-25 20:08:32,551 INFO sqlalchemy.engine.Engine [raw sql] {}\n",
      "2022-03-25 20:08:32,618 INFO sqlalchemy.engine.Engine show standard_conforming_strings\n",
      "2022-03-25 20:08:32,619 INFO sqlalchemy.engine.Engine [raw sql] {}\n",
      "2022-03-25 20:08:32,689 INFO sqlalchemy.engine.Engine BEGIN (implicit)\n",
      "2022-03-25 20:08:32,693 INFO sqlalchemy.engine.Engine SELECT \"user\".id AS user_id, \"user\".username AS user_username, \"user\".display_name AS user_display_name, \"user\".first_name AS user_first_name, \"user\".last_name AS user_last_name \n",
      "FROM \"user\" \n",
      " LIMIT %(param_1)s\n",
      "2022-03-25 20:08:32,694 INFO sqlalchemy.engine.Engine [generated in 0.00108s] {'param_1': 1}\n",
      "2022-03-25 20:08:32,760 INFO sqlalchemy.engine.Engine ROLLBACK\n"
     ]
    }
   ],
   "source": [
    "with context:\n",
    "    u = User.query.first()"
   ]
  },
  {
   "cell_type": "code",
   "execution_count": 3,
   "id": "6d5aa6be",
   "metadata": {},
   "outputs": [
    {
     "name": "stdout",
     "output_type": "stream",
     "text": [
      "cloudwang0209\n"
     ]
    }
   ],
   "source": [
    "print(u.username)"
   ]
  },
  {
   "cell_type": "code",
   "execution_count": 9,
   "id": "cbb36cfe",
   "metadata": {},
   "outputs": [
    {
     "name": "stdout",
     "output_type": "stream",
     "text": [
      "2022-03-25 20:12:19,832 INFO sqlalchemy.engine.Engine BEGIN (implicit)\n",
      "2022-03-25 20:12:19,835 INFO sqlalchemy.engine.Engine SELECT post.title AS post_title \n",
      "FROM post \n",
      " LIMIT %(param_1)s\n",
      "2022-03-25 20:12:19,836 INFO sqlalchemy.engine.Engine [generated in 0.00145s] {'param_1': 5}\n",
      "2022-03-25 20:12:19,908 INFO sqlalchemy.engine.Engine ROLLBACK\n"
     ]
    }
   ],
   "source": [
    "with context:\n",
    "    posts = Post.query.with_entities(Post.title).limit(5).all()\n",
    "    # with_entities will return selected entities in a tuple"
   ]
  },
  {
   "cell_type": "code",
   "execution_count": 10,
   "id": "4e9fd597",
   "metadata": {},
   "outputs": [
    {
     "name": "stdout",
     "output_type": "stream",
     "text": [
      "row: ('Advice need for upper body exercise',)\n",
      "row.title: Advice need for upper body exercise\n",
      "row: ('exercise recommended for back pain',)\n",
      "row.title: exercise recommended for back pain\n",
      "row: (' five ways workouts for back pain can help',)\n",
      "row.title:  five ways workouts for back pain can help\n",
      "row: ('Suggest Frequency with Strength training',)\n",
      "row.title: Suggest Frequency with Strength training\n",
      "row: ('Stretches & Exercises for Relief Low Back Pain',)\n",
      "row.title: Stretches & Exercises for Relief Low Back Pain\n"
     ]
    }
   ],
   "source": [
    "for row in posts:\n",
    "    print(f'row: {row}')\n",
    "    print(f'row.title: {row.title}')"
   ]
  },
  {
   "cell_type": "code",
   "execution_count": null,
   "id": "ef95cbd5",
   "metadata": {},
   "outputs": [],
   "source": []
  }
 ],
 "metadata": {
  "kernelspec": {
   "display_name": "Python 3 (ipykernel)",
   "language": "python",
   "name": "python3"
  },
  "language_info": {
   "codemirror_mode": {
    "name": "ipython",
    "version": 3
   },
   "file_extension": ".py",
   "mimetype": "text/x-python",
   "name": "python",
   "nbconvert_exporter": "python",
   "pygments_lexer": "ipython3",
   "version": "3.10.2"
  }
 },
 "nbformat": 4,
 "nbformat_minor": 5
}
